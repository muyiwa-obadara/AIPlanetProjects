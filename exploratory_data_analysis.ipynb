{
  "nbformat": 4,
  "nbformat_minor": 0,
  "metadata": {
    "colab": {
      "provenance": [],
      "authorship_tag": "ABX9TyM6e3z0TPjVPv69XlCuhcc1",
      "include_colab_link": true
    },
    "kernelspec": {
      "name": "python3",
      "display_name": "Python 3"
    },
    "language_info": {
      "name": "python"
    }
  },
  "cells": [
    {
      "cell_type": "markdown",
      "metadata": {
        "id": "view-in-github",
        "colab_type": "text"
      },
      "source": [
        "<a href=\"https://colab.research.google.com/github/muyiwa-obadara/AIPlanetProjects/blob/main/exploratory_data_analysis.ipynb\" target=\"_parent\"><img src=\"https://colab.research.google.com/assets/colab-badge.svg\" alt=\"Open In Colab\"/></a>"
      ]
    },
    {
      "cell_type": "markdown",
      "source": [
        "**Exploratory Data Analysis - AIPlanet**\n",
        "\n",
        "Here, the wine quality dataset was explored for insights."
      ],
      "metadata": {
        "id": "o4GROsCWyt5K"
      }
    },
    {
      "cell_type": "markdown",
      "source": [
        "### Setup"
      ],
      "metadata": {
        "id": "Qy10GMlizMPp"
      }
    },
    {
      "cell_type": "code",
      "execution_count": 1,
      "metadata": {
        "id": "jxSi5UQywO3a"
      },
      "outputs": [],
      "source": [
        "# Loading Libraries\n",
        "import numpy as np\n",
        "import pandas as pd\n",
        "\n",
        "# Ignoring Warnings\n",
        "import warnings\n",
        "warnings.filterwarnings(\"ignore\")"
      ]
    },
    {
      "cell_type": "markdown",
      "source": [
        "### Load the Data"
      ],
      "metadata": {
        "id": "DtKZdJVTz6t8"
      }
    },
    {
      "cell_type": "code",
      "source": [
        "wind_data = pd.read_csv(\"https://raw.githubusercontent.com/dphi-official/Datasets/master/Wine_Dataset/winequality-red.csv\", sep=\";\")"
      ],
      "metadata": {
        "id": "FXuGwBAK0I3R"
      },
      "execution_count": 2,
      "outputs": []
    },
    {
      "cell_type": "markdown",
      "source": [
        "### Exploratory Data Analysis\n",
        "**Initial Review** We study the structure of the data, by sight and sumary statistics."
      ],
      "metadata": {
        "id": "Elp_GH-zEcp-"
      }
    },
    {
      "cell_type": "code",
      "source": [],
      "metadata": {
        "id": "cbU8SPmd0d6o"
      },
      "execution_count": null,
      "outputs": []
    }
  ]
}